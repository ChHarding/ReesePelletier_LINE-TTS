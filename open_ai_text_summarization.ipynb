{
 "cells": [
  {
   "cell_type": "markdown",
   "id": "aab16058",
   "metadata": {},
   "source": [
    "# Testing OpeanAI for Text Summarization"
   ]
  },
  {
   "cell_type": "code",
   "execution_count": null,
   "id": "c642f1c0",
   "metadata": {},
   "outputs": [],
   "source": [
    "# Loading openai api key\n",
    "import os\n",
    "from openai import OpenAI\n"
   ]
  },
  {
   "cell_type": "code",
   "execution_count": null,
   "id": "76749672",
   "metadata": {},
   "outputs": [
    {
     "name": "stdout",
     "output_type": "stream",
     "text": [
      "The text describes poetic lines from the animated movie \"Bee Movie\". It starts with the story of a bee named Barry, who challenges the norms of the bee world and sues the human race for stealing honey. This leads to a series of events where bees strive to restore the balance of nature by pollinating flowers and ensuring their survival. Barry, with the help of Vanessa, a human friend, learns to fly a plane and save the flowers. In the end, Barry and the bees work together to pollinate flowers and continue their important role in nature. The movie ends with a message of unity and working together for the greater good.\n"
     ]
    }
   ],
   "source": [
    "monologue_text = \"\"\" So if I asked you about art you could give me the skinny on every art book ever written...Michelangelo? \n",
    "(beat) You know a lot about him. Life's work, political aspirations, him and the pope, sexual orientation, the whole works, right?\n",
    "But I bet you can't tell me what it smells like in the Sistine Chapel. You've never stood there and looked up at that beautiful ceiling. \n",
    "Seen that.....If I asked you about women you'd probably give me a syllabus of your personal favorites. You may have even been laid a few times. \n",
    "But you can't tell me how it feels to wake up next to a woman and be truly happy. You're a tough kid. I ask you about war, and you'd probably--uh--throw Shakespeare at me, right? \n",
    "\"Once more into the breach, dear friends.\" But you've never been near one. You've never held your best friend's head in your lap and watched him draw his last breath, looking to you for help.\n",
    "And if I asked you about love y'probably quote me a sonnet. But you've never looked at a woman and been totally vulnerable. Known someone could level you with her eyes. Feeling like God had put an angel on earth just for you...\n",
    "who could rescue you from the depths of hell. And you wouldn't know how it felt to be her angel and to have the love to be there for her forever. Through anything. Through cancer. You wouldn't know about sleeping sitting up in a hospital\n",
    "room for two months holding her hand and not leaving because the doctors could see in your eyes that the term visiting hours don't apply to you. You don't know about real loss, because that only occurs when you love something more than you love yourself.\n",
    "I doubt you've never dared to love anything that much. I look at you; I don't see an intelligent, confident man; I see a cocky, scared shitless kid. But you're a genius, Will. No one denies that. No one could possibly understand the depths of you. But you \n",
    "presume to know everything about me because you saw a painting of mine and ripped my fuckin' life apart. You're an orphan right? [Will nods quietly] Do you think I'd know the first thing about how hard your life has been, how you feel, who you are because I\n",
    "read Oliver Twist? Does that encapsulate you? Personally, I don't give a shit about that, because you know what? I can't learn anything from you I can't read in some fuckin' book. Unless you wanna talk about you, who you are. And I'm fascinated. I'm in. But \n",
    "you don't wanna do that, do you, sport? You're terrified of what you might say. Your move, chief.\"\"\"\n",
    "\n",
    "try:\n",
    "    # set api key, ask for summarization of text, print when finished\n",
    "    client = OpenAI(api_key=os.environ.get(\"OPENAI_API_KEY\"))\n",
    "    response = client.responses.create(\n",
    "        model=\"gpt-3.5-turbo\",\n",
    "        instructions=\"you are a helpful assistant that summarizes text in 250 words or less\",\n",
    "        input=f\"Summarize the following text:\\n{monologue_text}\",\n",
    "        )\n",
    "    print(response.output_text)\n",
    "except Exception as e:\n",
    "    print(f\"Error generating summary: {e}\")"
   ]
  }
 ],
 "metadata": {
  "kernelspec": {
   "display_name": ".venv (3.12.10)",
   "language": "python",
   "name": "python3"
  },
  "language_info": {
   "codemirror_mode": {
    "name": "ipython",
    "version": 3
   },
   "file_extension": ".py",
   "mimetype": "text/x-python",
   "name": "python",
   "nbconvert_exporter": "python",
   "pygments_lexer": "ipython3",
   "version": "3.12.10"
  }
 },
 "nbformat": 4,
 "nbformat_minor": 5
}
