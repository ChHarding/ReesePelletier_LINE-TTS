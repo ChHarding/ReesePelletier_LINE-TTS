{
 "cells": [
  {
   "cell_type": "code",
   "execution_count": 10,
   "id": "1b86813b",
   "metadata": {},
   "outputs": [],
   "source": [
    "import torch\n",
    "from kokoro import KPipeline\n",
    "import soundfile as sf\n",
    "import os\n",
    "\n",
    "# Create KPipeline for TTS, currently specifying 'a' for American English\n",
    "pipeline = KPipeline(lang_code='a', repo_id='hexgrad/Kokoro-82M')\n",
    "# TODO: MOVE FOLLOWING NOTE TO README\n",
    "# Note: the language code refers to the language of the text itself and can be at odds with the voice tensor\n",
    "# e.g a british, japanese, etc. voice (bf_george) can be used to speak american english text (lang-code='a')\n",
    "\n",
    "# load voice tensors\n",
    "af_alloy = torch.load('assets/voices/af_sarah.pt')\n",
    "af_bella = torch.load('assets/voices/am_adam.pt')\n",
    "af_heart = torch.load('assets/voices/af_heart.pt')\n",
    "\n",
    "# Use CUDA-enabled gpu if available, else default to CPU\n",
    "device = torch.device(\"cuda\" if torch.cuda.is_available() else \"cpu\")\n",
    "\n",
    "# Setting weights for voice blending\n",
    "ratio_a = 0.7\n",
    "ratio_b = 0.3\n",
    "\n",
    "blended_voice_weighted = (af_alloy * ratio_a) + (af_bella * ratio_b)\n"
   ]
  }
 ],
 "metadata": {
  "kernelspec": {
   "display_name": ".venv (3.12.10)",
   "language": "python",
   "name": "python3"
  },
  "language_info": {
   "codemirror_mode": {
    "name": "ipython",
    "version": 3
   },
   "file_extension": ".py",
   "mimetype": "text/x-python",
   "name": "python",
   "nbconvert_exporter": "python",
   "pygments_lexer": "ipython3",
   "version": "3.12.10"
  }
 },
 "nbformat": 4,
 "nbformat_minor": 5
}
