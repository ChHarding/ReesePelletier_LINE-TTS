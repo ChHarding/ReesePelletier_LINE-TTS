{
 "cells": [
  {
   "cell_type": "code",
   "execution_count": 6,
   "id": "1b86813b",
   "metadata": {},
   "outputs": [],
   "source": [
    "import torch\n",
    "from kokoro import KPipeline\n",
    "import soundfile as sf\n",
    "import os\n",
    "\n",
    "# load voice tensors\n",
    "af_alloy = torch.load('assets/voices/af_sarah.pt')\n",
    "af_bella = torch.load('assets/voices/am_adam.pt')\n",
    "af_heart = torch.load('assets/voices/af_heart.pt')\n",
    "\n",
    "\n",
    "\n"
   ]
  }
 ],
 "metadata": {
  "kernelspec": {
   "display_name": ".venv (3.12.10)",
   "language": "python",
   "name": "python3"
  },
  "language_info": {
   "codemirror_mode": {
    "name": "ipython",
    "version": 3
   },
   "file_extension": ".py",
   "mimetype": "text/x-python",
   "name": "python",
   "nbconvert_exporter": "python",
   "pygments_lexer": "ipython3",
   "version": "3.12.10"
  }
 },
 "nbformat": 4,
 "nbformat_minor": 5
}
