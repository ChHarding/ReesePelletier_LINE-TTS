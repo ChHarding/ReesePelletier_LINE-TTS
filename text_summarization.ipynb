{
 "cells": [
  {
   "cell_type": "code",
   "execution_count": 21,
   "id": "cf621ef5",
   "metadata": {},
   "outputs": [],
   "source": [
    "monologue_text = \"\"\" So if I asked you about art you could give me the skinny on every art book ever written...Michelangelo? \n",
    "(beat) You know a lot about him. Life's work, political aspirations, him and the pope, sexual orientation, the whole works, right?\n",
    "But I bet you can't tell me what it smells like in the Sistine Chapel. You've never stood there and looked up at that beautiful ceiling. \n",
    "Seen that.....If I asked you about women you'd probably give me a syllabus of your personal favorites. You may have even been laid a few times. \n",
    "But you can't tell me how it feels to wake up next to a woman and be truly happy. You're a tough kid. I ask you about war, and you'd probably--uh--throw Shakespeare at me, right? \n",
    "\"Once more into the breach, dear friends.\" But you've never been near one. You've never held your best friend's head in your lap and watched him draw his last breath, looking to you for help.\n",
    "And if I asked you about love y'probably quote me a sonnet. But you've never looked at a woman and been totally vulnerable. Known someone could level you with her eyes. Feeling like God had put an angel on earth just for you...\n",
    "who could rescue you from the depths of hell. And you wouldn't know how it felt to be her angel and to have the love to be there for her forever. Through anything. Through cancer. You wouldn't know about sleeping sitting up in a hospital\n",
    "room for two months holding her hand and not leaving because the doctors could see in your eyes that the term visiting hours don't apply to you. You don't know about real loss, because that only occurs when you love something more than you love yourself.\n",
    "I doubt you've never dared to love anything that much. I look at you; I don't see an intelligent, confident man; I see a cocky, scared shitless kid. But you're a genius, Will. No one denies that. No one could possibly understand the depths of you. But you \n",
    "presume to know everything about me because you saw a painting of mine and ripped my fuckin' life apart. You're an orphan right? [Will nods quietly] Do you think I'd know the first thing about how hard your life has been, how you feel, who you are because I\n",
    "read Oliver Twist? Does that encapsulate you? Personally, I don't give a shit about that, because you know what? I can't learn anything from you I can't read in some fuckin' book. Unless you wanna talk about you, who you are. And I'm fascinated. I'm in. But \n",
    "you don't wanna do that, do you, sport? You're terrified of what you might say. Your move, chief.\"\"\""
   ]
  },
  {
   "cell_type": "markdown",
   "id": "f22f1ff0",
   "metadata": {},
   "source": [
    "# Testing Text Summarization Methods in Python"
   ]
  },
  {
   "cell_type": "markdown",
   "id": "b24aa3c9",
   "metadata": {},
   "source": [
    "## Testing Sumy"
   ]
  },
  {
   "cell_type": "code",
   "execution_count": 22,
   "id": "110eec41",
   "metadata": {},
   "outputs": [
    {
     "name": "stdout",
     "output_type": "stream",
     "text": [
      "Original Text:\n",
      " So if I asked you about art you could give me the skinny on every art book ever written...Michelangelo? \n",
      "(beat) You know a lot about him. Life's work, political aspirations, him and the pope, sexual orientation, the whole works, right?\n",
      "But I bet you can't tell me what it smells like in the Sistine Chapel. You've never stood there and looked up at that beautiful ceiling. \n",
      "Seen that.....If I asked you about women you'd probably give me a syllabus of your personal favorites. You may have even been laid a few times. \n",
      "But you can't tell me how it feels to wake up next to a woman and be truly happy. You're a tough kid. I ask you about war, and you'd probably--uh--throw Shakespeare at me, right? \n",
      "\"Once more into the breach, dear friends.\" But you've never been near one. You've never held your best friend's head in your lap and watched him draw his last breath, looking to you for help.\n",
      "And if I asked you about love y'probably quote me a sonnet. But you've never looked at a woman and been totally vulnerable. Known someone could level you with her eyes. Feeling like God had put an angel on earth just for you...\n",
      "who could rescue you from the depths of hell. And you wouldn't know how it felt to be her angel and to have the love to be there for her forever. Through anything. Through cancer. You wouldn't know about sleeping sitting up in a hospital\n",
      "room for two months holding her hand and not leaving because the doctors could see in your eyes that the term visiting hours don't apply to you. You don't know about real loss, because that only occurs when you love something more than you love yourself.\n",
      "I doubt you've never dared to love anything that much. I look at you; I don't see an intelligent, confident man; I see a cocky, scared shitless kid. But you're a genius, Will. No one denies that. No one could possibly understand the depths of you. But you \n",
      "presume to know everything about me because you saw a painting of mine and ripped my fuckin' life apart. You're an orphan right? [Will nods quietly] Do you think I'd know the first thing about how hard your life has been, how you feel, who you are because I\n",
      "read Oliver Twist? Does that encapsulate you? Personally, I don't give a shit about that, because you know what? I can't learn anything from you I can't read in some fuckin' book. Unless you wanna talk about you, who you are. And I'm fascinated. I'm in. But \n",
      "you don't wanna do that, do you, sport? You're terrified of what you might say. Your move, chief.\n",
      "\n",
      "Summary:\n",
      "But I bet you can't tell me what it smells like in the Sistine Chapel.\n",
      "You wouldn't know about sleeping sitting up in a hospital room for two months holding her hand and not leaving because the doctors could see in your eyes that the term visiting hours don't apply to you.\n",
      "Personally, I don't give a shit about that, because you know what?\n"
     ]
    }
   ],
   "source": [
    "from sumy.parsers.plaintext import PlaintextParser\n",
    "from sumy.nlp.tokenizers import Tokenizer\n",
    "from sumy.summarizers.lsa import LsaSummarizer\n",
    "\n",
    "# Parse the input text\n",
    "parser = PlaintextParser.from_string(monologue_text, Tokenizer(\"english\"))\n",
    "\n",
    "# Create an LSA summarizer\n",
    "summarizer = LsaSummarizer()\n",
    "\n",
    "# Generate the summary\n",
    "summary = summarizer(parser.document, sentences_count=3)  # You can adjust the number of sentences in the summary\n",
    "\n",
    "# Output the summary\n",
    "print(\"Original Text:\")\n",
    "print(monologue_text)\n",
    "print(\"\\nSummary:\")\n",
    "for sentence in summary:\n",
    "    print(sentence)"
   ]
  },
  {
   "cell_type": "markdown",
   "id": "6bc96fb5",
   "metadata": {},
   "source": [
    "## Testing BERT"
   ]
  },
  {
   "cell_type": "code",
   "execution_count": 23,
   "id": "7be60ee4",
   "metadata": {},
   "outputs": [
    {
     "name": "stdout",
     "output_type": "stream",
     "text": [
      "Original Text:\n",
      " So if I asked you about art you could give me the skinny on every art book ever written...Michelangelo? \n",
      "(beat) You know a lot about him. Life's work, political aspirations, him and the pope, sexual orientation, the whole works, right?\n",
      "But I bet you can't tell me what it smells like in the Sistine Chapel. You've never stood there and looked up at that beautiful ceiling. \n",
      "Seen that.....If I asked you about women you'd probably give me a syllabus of your personal favorites. You may have even been laid a few times. \n",
      "But you can't tell me how it feels to wake up next to a woman and be truly happy. You're a tough kid. I ask you about war, and you'd probably--uh--throw Shakespeare at me, right? \n",
      "\"Once more into the breach, dear friends.\" But you've never been near one. You've never held your best friend's head in your lap and watched him draw his last breath, looking to you for help.\n",
      "And if I asked you about love y'probably quote me a sonnet. But you've never looked at a woman and been totally vulnerable. Known someone could level you with her eyes. Feeling like God had put an angel on earth just for you...\n",
      "who could rescue you from the depths of hell. And you wouldn't know how it felt to be her angel and to have the love to be there for her forever. Through anything. Through cancer. You wouldn't know about sleeping sitting up in a hospital\n",
      "room for two months holding her hand and not leaving because the doctors could see in your eyes that the term visiting hours don't apply to you. You don't know about real loss, because that only occurs when you love something more than you love yourself.\n",
      "I doubt you've never dared to love anything that much. I look at you; I don't see an intelligent, confident man; I see a cocky, scared shitless kid. But you're a genius, Will. No one denies that. No one could possibly understand the depths of you. But you \n",
      "presume to know everything about me because you saw a painting of mine and ripped my fuckin' life apart. You're an orphan right? [Will nods quietly] Do you think I'd know the first thing about how hard your life has been, how you feel, who you are because I\n",
      "read Oliver Twist? Does that encapsulate you? Personally, I don't give a shit about that, because you know what? I can't learn anything from you I can't read in some fuckin' book. Unless you wanna talk about you, who you are. And I'm fascinated. I'm in. But \n",
      "you don't wanna do that, do you, sport? You're terrified of what you might say. Your move, chief.\n",
      "\n",
      "Summary:\n",
      "So if I asked you about art you could give me the skinny on every art book ever written...Michelangelo? Seen that.....If I asked you about women you'd probably give me a syllabus of your personal favorites. But you can't tell me how it feels to wake up next to a woman and be truly happy. Personally, I don't give a shit about that, because you know what?\n"
     ]
    }
   ],
   "source": [
    "from summarizer import Summarizer\n",
    "\n",
    "\n",
    "# Create a BERT extractive summarizer\n",
    "summarizer = Summarizer()\n",
    "\n",
    "# Generate the summary\n",
    "summary = summarizer(monologue_text, min_length=50, max_length=150)  # You can adjust the min_length and max_length parameters\n",
    "\n",
    "# Output the summary\n",
    "print(\"Original Text:\")\n",
    "print(monologue_text)\n",
    "print(\"\\nSummary:\")\n",
    "print(summary)"
   ]
  },
  {
   "cell_type": "markdown",
   "id": "7fca2938",
   "metadata": {},
   "source": [
    "## Bart extractive summarization"
   ]
  },
  {
   "cell_type": "code",
   "execution_count": 24,
   "id": "f2690f7e",
   "metadata": {},
   "outputs": [
    {
     "name": "stdout",
     "output_type": "stream",
     "text": [
      "Original Text:\n",
      " So if I asked you about art you could give me the skinny on every art book ever written...Michelangelo? \n",
      "(beat) You know a lot about him. Life's work, political aspirations, him and the pope, sexual orientation, the whole works, right?\n",
      "But I bet you can't tell me what it smells like in the Sistine Chapel. You've never stood there and looked up at that beautiful ceiling. \n",
      "Seen that.....If I asked you about women you'd probably give me a syllabus of your personal favorites. You may have even been laid a few times. \n",
      "But you can't tell me how it feels to wake up next to a woman and be truly happy. You're a tough kid. I ask you about war, and you'd probably--uh--throw Shakespeare at me, right? \n",
      "\"Once more into the breach, dear friends.\" But you've never been near one. You've never held your best friend's head in your lap and watched him draw his last breath, looking to you for help.\n",
      "And if I asked you about love y'probably quote me a sonnet. But you've never looked at a woman and been totally vulnerable. Known someone could level you with her eyes. Feeling like God had put an angel on earth just for you...\n",
      "who could rescue you from the depths of hell. And you wouldn't know how it felt to be her angel and to have the love to be there for her forever. Through anything. Through cancer. You wouldn't know about sleeping sitting up in a hospital\n",
      "room for two months holding her hand and not leaving because the doctors could see in your eyes that the term visiting hours don't apply to you. You don't know about real loss, because that only occurs when you love something more than you love yourself.\n",
      "I doubt you've never dared to love anything that much. I look at you; I don't see an intelligent, confident man; I see a cocky, scared shitless kid. But you're a genius, Will. No one denies that. No one could possibly understand the depths of you. But you \n",
      "presume to know everything about me because you saw a painting of mine and ripped my fuckin' life apart. You're an orphan right? [Will nods quietly] Do you think I'd know the first thing about how hard your life has been, how you feel, who you are because I\n",
      "read Oliver Twist? Does that encapsulate you? Personally, I don't give a shit about that, because you know what? I can't learn anything from you I can't read in some fuckin' book. Unless you wanna talk about you, who you are. And I'm fascinated. I'm in. But \n",
      "you don't wanna do that, do you, sport? You're terrified of what you might say. Your move, chief.\n",
      "\n",
      "Summary:\n",
      "Will: \"You can't tell me how it feels to wake up next to a woman and be truly happy\" \"You don't know about real loss, because that only occurs when you love something more than you love yourself\" \"Do you think I'd know the first thing about how hard your life has been, how you feel, who you are because I read Oliver Twist?\"\n"
     ]
    }
   ],
   "source": [
    "from transformers import BartTokenizer, BartForConditionalGeneration\n",
    "\n",
    "# Load pre-trained BART model and tokenizer\n",
    "model_name = \"facebook/bart-large-cnn\"\n",
    "tokenizer = BartTokenizer.from_pretrained(model_name)\n",
    "model = BartForConditionalGeneration.from_pretrained(model_name)\n",
    "\n",
    "# Tokenize and summarize the input text using BART\n",
    "inputs = tokenizer.encode(f\"summarize: {monologue_text}\", return_tensors=\"pt\", max_length=1024, truncation=True)\n",
    "summary_ids = model.generate(inputs, max_length=100, min_length=50, length_penalty=2.0, num_beams=4, early_stopping=True)\n",
    "\n",
    "# Decode and output the summary\n",
    "summary = tokenizer.decode(summary_ids[0], skip_special_tokens=True)\n",
    "print(\"Original Text:\")\n",
    "print(monologue_text)\n",
    "print(\"\\nSummary:\")\n",
    "print(summary)"
   ]
  }
 ],
 "metadata": {
  "kernelspec": {
   "display_name": ".venv (3.13.3)",
   "language": "python",
   "name": "python3"
  },
  "language_info": {
   "codemirror_mode": {
    "name": "ipython",
    "version": 3
   },
   "file_extension": ".py",
   "mimetype": "text/x-python",
   "name": "python",
   "nbconvert_exporter": "python",
   "pygments_lexer": "ipython3",
   "version": "3.13.3"
  }
 },
 "nbformat": 4,
 "nbformat_minor": 5
}
