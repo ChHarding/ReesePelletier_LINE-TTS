{
 "cells": [
  {
   "cell_type": "code",
   "execution_count": 2,
   "id": "cf621ef5",
   "metadata": {},
   "outputs": [],
   "source": [
    "monologue_text = \"\"\" So if I asked you about art you could give me the skinny on every art book ever written...Michelangelo? \n",
    "(beat) You know a lot about him. Life's work, political aspirations, him and the pope, sexual orientation, the whole works, right?\n",
    "But I bet you can't tell me what it smells like in the Sistine Chapel. You've never stood there and looked up at that beautiful ceiling. \n",
    "Seen that.....If I asked you about women you'd probably give me a syllabus of your personal favorites. You may have even been laid a few times. \n",
    "But you can't tell me how it feels to wake up next to a woman and be truly happy. You're a tough kid. I ask you about war, and you'd probably--uh--throw Shakespeare at me, right? \n",
    "\"Once more into the breach, dear friends.\" But you've never been near one. You've never held your best friend's head in your lap and watched him draw his last breath, looking to you for help.\n",
    "And if I asked you about love y'probably quote me a sonnet. But you've never looked at a woman and been totally vulnerable. Known someone could level you with her eyes. Feeling like God had put an angel on earth just for you...\n",
    "who could rescue you from the depths of hell. And you wouldn't know how it felt to be her angel and to have the love to be there for her forever. Through anything. Through cancer. You wouldn't know about sleeping sitting up in a hospital\n",
    "room for two months holding her hand and not leaving because the doctors could see in your eyes that the term visiting hours don't apply to you. You don't know about real loss, because that only occurs when you love something more than you love yourself.\n",
    "I doubt you've never dared to love anything that much. I look at you; I don't see an intelligent, confident man; I see a cocky, scared shitless kid. But you're a genius, Will. No one denies that. No one could possibly understand the depths of you. But you \n",
    "presume to know everything about me because you saw a painting of mine and ripped my fuckin' life apart. You're an orphan right? [Will nods quietly] Do you think I'd know the first thing about how hard your life has been, how you feel, who you are because I\n",
    "read Oliver Twist? Does that encapsulate you? Personally, I don't give a shit about that, because you know what? I can't learn anything from you I can't read in some fuckin' book. Unless you wanna talk about you, who you are. And I'm fascinated. I'm in. But \n",
    "you don't wanna do that, do you, sport? You're terrified of what you might say. Your move, chief.\"\"\""
   ]
  },
  {
   "cell_type": "markdown",
   "id": "f22f1ff0",
   "metadata": {},
   "source": [
    "# Testing Text Summarization Methods in Python"
   ]
  },
  {
   "cell_type": "markdown",
   "id": "b24aa3c9",
   "metadata": {},
   "source": [
    "## Testing Sumy"
   ]
  },
  {
   "cell_type": "code",
   "execution_count": 3,
   "id": "110eec41",
   "metadata": {},
   "outputs": [
    {
     "name": "stdout",
     "output_type": "stream",
     "text": [
      "Original Text:\n",
      " So if I asked you about art you could give me the skinny on every art book ever written...Michelangelo? \n",
      "(beat) You know a lot about him. Life's work, political aspirations, him and the pope, sexual orientation, the whole works, right?\n",
      "But I bet you can't tell me what it smells like in the Sistine Chapel. You've never stood there and looked up at that beautiful ceiling. \n",
      "Seen that.....If I asked you about women you'd probably give me a syllabus of your personal favorites. You may have even been laid a few times. \n",
      "But you can't tell me how it feels to wake up next to a woman and be truly happy. You're a tough kid. I ask you about war, and you'd probably--uh--throw Shakespeare at me, right? \n",
      "\"Once more into the breach, dear friends.\" But you've never been near one. You've never held your best friend's head in your lap and watched him draw his last breath, looking to you for help.\n",
      "And if I asked you about love y'probably quote me a sonnet. But you've never looked at a woman and been totally vulnerable. Known someone could level you with her eyes. Feeling like God had put an angel on earth just for you...\n",
      "who could rescue you from the depths of hell. And you wouldn't know how it felt to be her angel and to have the love to be there for her forever. Through anything. Through cancer. You wouldn't know about sleeping sitting up in a hospital\n",
      "room for two months holding her hand and not leaving because the doctors could see in your eyes that the term visiting hours don't apply to you. You don't know about real loss, because that only occurs when you love something more than you love yourself.\n",
      "I doubt you've never dared to love anything that much. I look at you; I don't see an intelligent, confident man; I see a cocky, scared shitless kid. But you're a genius, Will. No one denies that. No one could possibly understand the depths of you. But you \n",
      "presume to know everything about me because you saw a painting of mine and ripped my fuckin' life apart. You're an orphan right? [Will nods quietly] Do you think I'd know the first thing about how hard your life has been, how you feel, who you are because I\n",
      "read Oliver Twist? Does that encapsulate you? Personally, I don't give a shit about that, because you know what? I can't learn anything from you I can't read in some fuckin' book. Unless you wanna talk about you, who you are. And I'm fascinated. I'm in. But \n",
      "you don't wanna do that, do you, sport? You're terrified of what you might say. Your move, chief.\n",
      "\n",
      "Summary:\n",
      "But I bet you can't tell me what it smells like in the Sistine Chapel.\n",
      "You wouldn't know about sleeping sitting up in a hospital room for two months holding her hand and not leaving because the doctors could see in your eyes that the term visiting hours don't apply to you.\n",
      "Personally, I don't give a shit about that, because you know what?\n"
     ]
    }
   ],
   "source": [
    "from sumy.parsers.plaintext import PlaintextParser\n",
    "from sumy.nlp.tokenizers import Tokenizer\n",
    "from sumy.summarizers.lsa import LsaSummarizer\n",
    "import nltk\n",
    "#nltk.download('punkt_tab') #only need to perform once\n",
    "\n",
    "# Parse the input text\n",
    "parser = PlaintextParser.from_string(monologue_text, Tokenizer(\"english\"))\n",
    "\n",
    "# Create an LSA summarizer\n",
    "summarizer = LsaSummarizer()\n",
    "\n",
    "# Generate the summary\n",
    "summary = summarizer(parser.document, sentences_count=3)  # You can adjust the number of sentences in the summary\n",
    "\n",
    "# Output the summary\n",
    "print(\"Original Text:\")\n",
    "print(monologue_text)\n",
    "print(\"\\nSummary:\")\n",
    "for sentence in summary:\n",
    "    print(sentence)"
   ]
  },
  {
   "cell_type": "markdown",
   "id": "7fca2938",
   "metadata": {},
   "source": [
    "## Bart extractive summarization"
   ]
  },
  {
   "cell_type": "code",
   "execution_count": 8,
   "id": "f2690f7e",
   "metadata": {},
   "outputs": [
    {
     "ename": "ImportError",
     "evalue": "\nBartForConditionalGeneration requires the PyTorch library but it was not found in your environment. Checkout the instructions on the\ninstallation page: https://pytorch.org/get-started/locally/ and follow the ones that match your environment.\nPlease note that you may need to restart your runtime after installation.\n",
     "output_type": "error",
     "traceback": [
      "\u001b[31m---------------------------------------------------------------------------\u001b[39m",
      "\u001b[31mImportError\u001b[39m                               Traceback (most recent call last)",
      "\u001b[36mCell\u001b[39m\u001b[36m \u001b[39m\u001b[32mIn[8]\u001b[39m\u001b[32m, line 6\u001b[39m\n\u001b[32m      4\u001b[39m model_name = \u001b[33m\"\u001b[39m\u001b[33mfacebook/bart-large-cnn\u001b[39m\u001b[33m\"\u001b[39m\n\u001b[32m      5\u001b[39m tokenizer = BartTokenizer.from_pretrained(model_name)\n\u001b[32m----> \u001b[39m\u001b[32m6\u001b[39m model = \u001b[43mBartForConditionalGeneration\u001b[49m\u001b[43m.\u001b[49m\u001b[43mfrom_pretrained\u001b[49m(model_name)\n\u001b[32m      8\u001b[39m \u001b[38;5;66;03m# Tokenize and summarize the input text using BART\u001b[39;00m\n\u001b[32m      9\u001b[39m inputs = tokenizer.encode(\u001b[33mf\u001b[39m\u001b[33m\"\u001b[39m\u001b[33msummarize: \u001b[39m\u001b[38;5;132;01m{\u001b[39;00mmonologue_text\u001b[38;5;132;01m}\u001b[39;00m\u001b[33m\"\u001b[39m, return_tensors=\u001b[33m\"\u001b[39m\u001b[33mpt\u001b[39m\u001b[33m\"\u001b[39m, max_length=\u001b[32m1024\u001b[39m, truncation=\u001b[38;5;28;01mTrue\u001b[39;00m)\n",
      "\u001b[36mFile \u001b[39m\u001b[32mc:\\Users\\reese\\Development\\LINE-TTS\\.venv\\Lib\\site-packages\\transformers\\utils\\import_utils.py:1885\u001b[39m, in \u001b[36mDummyObject.__getattribute__\u001b[39m\u001b[34m(cls, key)\u001b[39m\n\u001b[32m   1883\u001b[39m \u001b[38;5;28;01mif\u001b[39;00m (key.startswith(\u001b[33m\"\u001b[39m\u001b[33m_\u001b[39m\u001b[33m\"\u001b[39m) \u001b[38;5;129;01mand\u001b[39;00m key != \u001b[33m\"\u001b[39m\u001b[33m_from_config\u001b[39m\u001b[33m\"\u001b[39m) \u001b[38;5;129;01mor\u001b[39;00m key == \u001b[33m\"\u001b[39m\u001b[33mis_dummy\u001b[39m\u001b[33m\"\u001b[39m \u001b[38;5;129;01mor\u001b[39;00m key == \u001b[33m\"\u001b[39m\u001b[33mmro\u001b[39m\u001b[33m\"\u001b[39m \u001b[38;5;129;01mor\u001b[39;00m key == \u001b[33m\"\u001b[39m\u001b[33mcall\u001b[39m\u001b[33m\"\u001b[39m:\n\u001b[32m   1884\u001b[39m     \u001b[38;5;28;01mreturn\u001b[39;00m \u001b[38;5;28msuper\u001b[39m().\u001b[34m__getattribute__\u001b[39m(key)\n\u001b[32m-> \u001b[39m\u001b[32m1885\u001b[39m \u001b[43mrequires_backends\u001b[49m\u001b[43m(\u001b[49m\u001b[38;5;28;43mcls\u001b[39;49m\u001b[43m,\u001b[49m\u001b[43m \u001b[49m\u001b[38;5;28;43mcls\u001b[39;49m\u001b[43m.\u001b[49m\u001b[43m_backends\u001b[49m\u001b[43m)\u001b[49m\n",
      "\u001b[36mFile \u001b[39m\u001b[32mc:\\Users\\reese\\Development\\LINE-TTS\\.venv\\Lib\\site-packages\\transformers\\utils\\import_utils.py:1871\u001b[39m, in \u001b[36mrequires_backends\u001b[39m\u001b[34m(obj, backends)\u001b[39m\n\u001b[32m   1868\u001b[39m         failed.append(msg.format(name))\n\u001b[32m   1870\u001b[39m \u001b[38;5;28;01mif\u001b[39;00m failed:\n\u001b[32m-> \u001b[39m\u001b[32m1871\u001b[39m     \u001b[38;5;28;01mraise\u001b[39;00m \u001b[38;5;167;01mImportError\u001b[39;00m(\u001b[33m\"\u001b[39m\u001b[33m\"\u001b[39m.join(failed))\n",
      "\u001b[31mImportError\u001b[39m: \nBartForConditionalGeneration requires the PyTorch library but it was not found in your environment. Checkout the instructions on the\ninstallation page: https://pytorch.org/get-started/locally/ and follow the ones that match your environment.\nPlease note that you may need to restart your runtime after installation.\n"
     ]
    }
   ],
   "source": [
    "from transformers import BartTokenizer, BartForConditionalGeneration\n",
    "\n",
    "# Load pre-trained BART model and tokenizer\n",
    "model_name = \"facebook/bart-large-cnn\"\n",
    "tokenizer = BartTokenizer.from_pretrained(model_name)\n",
    "model = BartForConditionalGeneration.from_pretrained(model_name)\n",
    "\n",
    "# Tokenize and summarize the input text using BART\n",
    "inputs = tokenizer.encode(f\"summarize: {monologue_text}\", return_tensors=\"pt\", max_length=1024, truncation=True)\n",
    "summary_ids = model.generate(inputs, max_length=100, min_length=50, length_penalty=2.0, num_beams=4, early_stopping=True)\n",
    "\n",
    "# Decode and output the summary\n",
    "summary = tokenizer.decode(summary_ids[0], skip_special_tokens=True)\n",
    "print(\"Original Text:\")\n",
    "print(monologue_text)\n",
    "print(\"\\nSummary:\")\n",
    "print(summary)"
   ]
  }
 ],
 "metadata": {
  "kernelspec": {
   "display_name": ".venv (3.12.10)",
   "language": "python",
   "name": "python3"
  },
  "language_info": {
   "codemirror_mode": {
    "name": "ipython",
    "version": 3
   },
   "file_extension": ".py",
   "mimetype": "text/x-python",
   "name": "python",
   "nbconvert_exporter": "python",
   "pygments_lexer": "ipython3",
   "version": "3.12.10"
  }
 },
 "nbformat": 4,
 "nbformat_minor": 5
}
